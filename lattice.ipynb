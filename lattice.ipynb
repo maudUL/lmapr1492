{
 "cells": [
  {
   "cell_type": "markdown",
   "id": "67cb3ff0",
   "metadata": {},
   "source": [
    "# Tâche 4"
   ]
  },
  {
   "cell_type": "code",
   "execution_count": 1,
   "id": "724cc7b8",
   "metadata": {},
   "outputs": [],
   "source": [
    "import numpy as np\n",
    "from mp_api.client import MPRester\n",
    "from pymatgen.ext.matproj import MPRester\n",
    "from pymatgen.core.operations import SymmOp\n",
    "from pymatgen.symmetry.analyzer import SpacegroupAnalyzer\n",
    "from pymatgen.electronic_structure.plotter import BSPlotter\n",
    "from pymatgen.phonon.plotter import PhononBSPlotter\n",
    "from jupyter_jsmol.pymatgen import quick_view\n",
    "from lmapr1492 import plot_brillouin_zone, get_plot_bs, get_plot_dos, get_plot_bs_and_dos, get_branch_wavevectors\n",
    "from plotly.subplots import make_subplots\n",
    "import plotly.graph_objects as go\n",
    "from pymatgen.io.cif import CifParser\n"
   ]
  },
  {
   "cell_type": "code",
   "execution_count": 2,
   "id": "a508b96e",
   "metadata": {},
   "outputs": [],
   "source": [
    "mp_key = \"5KTRCxoFyWvECvvRVCS0OeflSzkuO7df\"\n",
    "mp_id = \"mp-7575\""
   ]
  },
  {
   "cell_type": "code",
   "execution_count": 4,
   "id": "f28680cd",
   "metadata": {
    "scrolled": true
   },
   "outputs": [
    {
     "data": {
      "application/vnd.jupyter.widget-view+json": {
       "model_id": "3a8d870ca3f8441a96912ec8a31e4729",
       "version_major": 2,
       "version_minor": 0
      },
      "text/plain": [
       "Retrieving MaterialsDoc documents:   0%|          | 0/1 [00:00<?, ?it/s]"
      ]
     },
     "metadata": {},
     "output_type": "display_data"
    },
    {
     "data": {
      "application/vnd.jupyter.widget-view+json": {
       "model_id": "1be5b00f135c4bfb950704e3e57f1d50",
       "version_major": 2,
       "version_minor": 0
      },
      "text/plain": [
       "Retrieving ElectronicStructureDoc documents:   0%|          | 0/1 [00:00<?, ?it/s]"
      ]
     },
     "metadata": {},
     "output_type": "display_data"
    },
    {
     "data": {
      "application/vnd.jupyter.widget-view+json": {
       "model_id": "67b97ee3699f4c158adbcaad3ebc1b2e",
       "version_major": 2,
       "version_minor": 0
      },
      "text/plain": [
       "Retrieving ElectronicStructureDoc documents:   0%|          | 0/1 [00:00<?, ?it/s]"
      ]
     },
     "metadata": {},
     "output_type": "display_data"
    },
    {
     "data": {
      "application/vnd.jupyter.widget-view+json": {
       "model_id": "0085cf616f7f4871802d6fd310edfaa8",
       "version_major": 2,
       "version_minor": 0
      },
      "text/plain": [
       "Retrieving PhononBSDOSDoc documents:   0%|          | 0/1 [00:00<?, ?it/s]"
      ]
     },
     "metadata": {},
     "output_type": "display_data"
    },
    {
     "data": {
      "application/vnd.jupyter.widget-view+json": {
       "model_id": "bd64520be36f4c99b394fa8860269e3c",
       "version_major": 2,
       "version_minor": 0
      },
      "text/plain": [
       "Retrieving PhononBSDOSDoc documents:   0%|          | 0/1 [00:00<?, ?it/s]"
      ]
     },
     "metadata": {},
     "output_type": "display_data"
    }
   ],
   "source": [
    "\n",
    "with MPRester(mp_key) as m:\n",
    "    structure = m.get_structure_by_material_id(mp_id)\n",
    "    el_bs = m.get_bandstructure_by_material_id(mp_id)\n",
    "    el_dos = m.get_dos_by_material_id(mp_id)\n",
    "    ph_bs = m.get_phonon_bandstructure_by_material_id(mp_id)\n",
    "    ph_dos = m.get_phonon_dos_by_material_id(mp_id)\n",
    "conv_struc = SpacegroupAnalyzer(structure).get_conventional_standard_structure()\n",
    "symmops = SpacegroupAnalyzer(conv_struc).get_space_group_operations()"
   ]
  },
  {
   "cell_type": "markdown",
   "id": "aed3fcab",
   "metadata": {},
   "source": [
    "## Vecteurs des réseaux direct et réciproque"
   ]
  },
  {
   "cell_type": "code",
   "execution_count": 14,
   "id": "35326977",
   "metadata": {},
   "outputs": [
    {
     "name": "stdout",
     "output_type": "stream",
     "text": [
      "Vecteurs du réseau direct (cellule primitive) (Å):\n",
      "a = [2.97906657 0.         1.71996563], b = [0.99302253 2.80869047 1.71996563], c = [0.         0.         3.43992825] \n",
      "\n",
      "La norme de ces 3 vecteurs est  3.439930144185033 Å  ce qui correspond bien aux paramètres de maille de la cellule primitive (a,b,c) d'après le Materials Project.\n",
      "\n",
      "Vecteurs du réseau réciproque (cellule primitive) (Å^-1):\n",
      "a* = [ 2.10911209 -0.7456841   0.        ], b* = [0.         2.23705153 0.        ], c* = [-1.05455697 -0.74568437  1.82654545]\n",
      "\n",
      "Vecteurs du réseau direct (cellule conventionnelle) (Å):\n",
      "a = [4.86479437e+00 0.00000000e+00 2.97882743e-16], b = [7.82318602e-16 4.86479437e+00 2.97882743e-16], c = [0.         0.         4.86479437]\n",
      "La norme de ces 3 vecteurs est  4.864794373012699 Å  ce qui correspond bien aux paramètres de maille de la cellule conventionnelle (a,b,c) d'après le Materials Project.\n",
      "\n",
      "Vecteurs du réseau réciproque (cellule conventionnelle) (Å^-1):\n",
      "a* = [ 1.29156236e+00 -2.07699069e-16  0.00000000e+00], b* = [0.         1.29156236 0.        ], c* = [-7.90853856e-17 -7.90853856e-17  1.29156236e+00]\n"
     ]
    }
   ],
   "source": [
    "# Vecteurs du réseau direct (cellule primitive)\n",
    "lattice = structure.lattice\n",
    "direct_vectors = lattice.matrix\n",
    "a, b, c = direct_vectors[0], direct_vectors[1], direct_vectors[2]\n",
    "print(\"Vecteurs du réseau direct (cellule primitive) (Å):\")\n",
    "print(f\"a = {a}, b = {b}, c = {c} \\n\")\n",
    "norme = np.linalg.norm(direct_vectors, axis = 1)\n",
    "print(\"La norme de ces 3 vecteurs est \", norme[0], \"Å\", \" ce qui correspond bien aux paramètres de maille de la cellule primitive (a,b,c) d'après le Materials Project.\")\n",
    "\n",
    "\n",
    "# Vecteurs du réseau réciproque (cellule primitive)\n",
    "reciprocal_lattice = lattice.reciprocal_lattice\n",
    "a_r, b_r, c_r = reciprocal_lattice.matrix[0], reciprocal_lattice.matrix[1], reciprocal_lattice.matrix[2]\n",
    "print(\"\\nVecteurs du réseau réciproque (cellule primitive) (Å^-1):\")\n",
    "print(f\"a* = {a_r}, b* = {b_r}, c* = {c_r}\")\n",
    "\n",
    "\n",
    "# Structure conventionnelle\n",
    "analyzer = SpacegroupAnalyzer(structure)\n",
    "conventional_structure = analyzer.get_conventional_standard_structure()\n",
    "\n",
    "# Cellule conventionnelle\n",
    "conventional_lattice = conventional_structure.lattice\n",
    "a, b, c = conventional_lattice.matrix[0], conventional_lattice.matrix[1], conventional_lattice.matrix[2]\n",
    "print(\"\\nVecteurs du réseau direct (cellule conventionnelle) (Å):\")\n",
    "print(f\"a = {a}, b = {b}, c = {c}\")\n",
    "norme = np.linalg.norm(conventional_lattice.matrix, axis = 1)\n",
    "print(\"La norme de ces 3 vecteurs est \", norme[0], \"Å\", \" ce qui correspond bien aux paramètres de maille de la cellule conventionnelle (a,b,c) d'après le Materials Project.\")\n",
    "\n",
    "\n",
    "# Réseau réciproque liés aux vecteurs de base de la cellule conventionnelle\n",
    "reciprocal_lattice = conventional_lattice.reciprocal_lattice\n",
    "a_r, b_r, c_r = reciprocal_lattice.matrix[0], reciprocal_lattice.matrix[1], reciprocal_lattice.matrix[2]\n",
    "print(\"\\nVecteurs du réseau réciproque (cellule conventionnelle) (Å^-1):\")\n",
    "print(f\"a* = {a_r}, b* = {b_r}, c* = {c_r}\")\n",
    "\n"
   ]
  },
  {
   "cell_type": "markdown",
   "id": "ade0569d",
   "metadata": {},
   "source": [
    "## Type de maille, système cristallin et groupe ponctuel"
   ]
  },
  {
   "cell_type": "code",
   "execution_count": 19,
   "id": "4381a7cb",
   "metadata": {},
   "outputs": [
    {
     "name": "stdout",
     "output_type": "stream",
     "text": [
      "\n",
      "Type de maille: F\n",
      "La maille est donc faces centrées.\n",
      "\n",
      "Système cristallin: cubic\n",
      "Le type de réseau de Bravais est donc cubique faces centrées.\n",
      "\n",
      "Groupe ponctuel: -43m\n",
      "Il s'agit du groupe reprenant l'ensemble des opérations ponctuelles de symétrie du cristal.\n",
      "-4 représente une rotoinversion d'ordre 4 le long des directions [100],[010] et [001].\n",
      "3 représente une rotation d'ordre 3 le long des directions [111], [1-1-1], [-11-1] et [-1-11].\n",
      "m représente la réflexion à travers un plan miroir le long des directions [110], [101], [011], [1-10], [10-1] et [01-1].\n"
     ]
    }
   ],
   "source": [
    "#Type de maille\n",
    "maille_type = analyzer.get_space_group_symbol()[0]\n",
    "\n",
    "print(\"\\nType de maille:\", maille_type)\n",
    "print(\"La maille est donc faces centrées.\")\n",
    "\n",
    "#Système cristallin\n",
    "crystal_system = analyzer.get_crystal_system()\n",
    "print(\"\\nSystème cristallin:\", crystal_system)\n",
    "print(\"Le type de réseau de Bravais est donc cubique faces centrées.\")\n",
    "\n",
    "#Groupe ponctuel:\n",
    "point_group_symbol = analyzer.get_point_group_symbol()\n",
    "print(\"\\nGroupe ponctuel:\", point_group_symbol)\n",
    "print(\"Il s'agit du groupe reprenant l'ensemble des opérations ponctuelles de symétrie du cristal.\")\n",
    "print(\"-4 représente une rotoinversion d'ordre 4 le long des directions [100],[010] et [001].\")\n",
    "print(\"3 représente une rotation d'ordre 3 le long des directions [111], [1-1-1], [-11-1] et [-1-11].\")\n",
    "print(\"m représente la réflexion à travers un plan miroir le long des directions [110], [101], [011], [1-10], [10-1] et [01-1].\")"
   ]
  },
  {
   "cell_type": "code",
   "execution_count": null,
   "id": "122f5980",
   "metadata": {},
   "outputs": [],
   "source": []
  }
 ],
 "metadata": {
  "kernelspec": {
   "display_name": "Python 3 (ipykernel)",
   "language": "python",
   "name": "python3"
  },
  "language_info": {
   "codemirror_mode": {
    "name": "ipython",
    "version": 3
   },
   "file_extension": ".py",
   "mimetype": "text/x-python",
   "name": "python",
   "nbconvert_exporter": "python",
   "pygments_lexer": "ipython3",
   "version": "3.9.13"
  }
 },
 "nbformat": 4,
 "nbformat_minor": 5
}
