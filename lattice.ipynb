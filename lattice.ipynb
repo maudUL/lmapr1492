{
 "cells": [
  {
   "cell_type": "code",
   "execution_count": 1,
   "id": "724cc7b8",
   "metadata": {},
   "outputs": [],
   "source": [
    "import numpy as np\n",
    "from mp_api.client import MPRester\n",
    "from pymatgen.ext.matproj import MPRester\n",
    "from pymatgen.core.operations import SymmOp\n",
    "from pymatgen.symmetry.analyzer import SpacegroupAnalyzer\n",
    "from pymatgen.electronic_structure.plotter import BSPlotter\n",
    "from pymatgen.phonon.plotter import PhononBSPlotter\n",
    "from jupyter_jsmol.pymatgen import quick_view\n",
    "from lmapr1492 import plot_brillouin_zone, get_plot_bs, get_plot_dos, get_plot_bs_and_dos, get_branch_wavevectors\n",
    "from plotly.subplots import make_subplots\n",
    "import plotly.graph_objects as go\n",
    "from pymatgen.io.cif import CifParser\n"
   ]
  },
  {
   "cell_type": "code",
   "execution_count": 2,
   "id": "a508b96e",
   "metadata": {},
   "outputs": [],
   "source": [
    "mp_key = \"5KTRCxoFyWvECvvRVCS0OeflSzkuO7df\"\n",
    "mp_id = \"mp-7575\""
   ]
  },
  {
   "cell_type": "code",
   "execution_count": 3,
   "id": "f28680cd",
   "metadata": {},
   "outputs": [
    {
     "data": {
      "application/vnd.jupyter.widget-view+json": {
       "model_id": "a3f46e06e1104d89a426319ecb6512dc",
       "version_major": 2,
       "version_minor": 0
      },
      "text/plain": [
       "Retrieving MaterialsDoc documents:   0%|          | 0/1 [00:00<?, ?it/s]"
      ]
     },
     "metadata": {},
     "output_type": "display_data"
    },
    {
     "data": {
      "application/vnd.jupyter.widget-view+json": {
       "model_id": "637800ddb23c44328184a435ab713d72",
       "version_major": 2,
       "version_minor": 0
      },
      "text/plain": [
       "Retrieving ElectronicStructureDoc documents:   0%|          | 0/1 [00:00<?, ?it/s]"
      ]
     },
     "metadata": {},
     "output_type": "display_data"
    },
    {
     "data": {
      "application/vnd.jupyter.widget-view+json": {
       "model_id": "82a8b8e5f8834b3d96291b9946cc76ad",
       "version_major": 2,
       "version_minor": 0
      },
      "text/plain": [
       "Retrieving ElectronicStructureDoc documents:   0%|          | 0/1 [00:00<?, ?it/s]"
      ]
     },
     "metadata": {},
     "output_type": "display_data"
    },
    {
     "data": {
      "application/vnd.jupyter.widget-view+json": {
       "model_id": "9d6b0e9632644b7f91692e460f74536c",
       "version_major": 2,
       "version_minor": 0
      },
      "text/plain": [
       "Retrieving PhononBSDOSDoc documents:   0%|          | 0/1 [00:00<?, ?it/s]"
      ]
     },
     "metadata": {},
     "output_type": "display_data"
    },
    {
     "data": {
      "application/vnd.jupyter.widget-view+json": {
       "model_id": "0d32c31fc53a43b2bc3ad782d32d5a42",
       "version_major": 2,
       "version_minor": 0
      },
      "text/plain": [
       "Retrieving PhononBSDOSDoc documents:   0%|          | 0/1 [00:00<?, ?it/s]"
      ]
     },
     "metadata": {},
     "output_type": "display_data"
    }
   ],
   "source": [
    "\n",
    "with MPRester(mp_key) as m:\n",
    "    structure = m.get_structure_by_material_id(mp_id)\n",
    "    el_bs = m.get_bandstructure_by_material_id(mp_id)\n",
    "    el_dos = m.get_dos_by_material_id(mp_id)\n",
    "    ph_bs = m.get_phonon_bandstructure_by_material_id(mp_id)\n",
    "    ph_dos = m.get_phonon_dos_by_material_id(mp_id)\n",
    "conv_struc = SpacegroupAnalyzer(prim_struc).get_conventional_standard_structure()\n",
    "symmops = SpacegroupAnalyzer(conv_struc).get_space_group_operations()"
   ]
  },
  {
   "cell_type": "code",
   "execution_count": 6,
   "id": "35326977",
   "metadata": {},
   "outputs": [
    {
     "name": "stdout",
     "output_type": "stream",
     "text": [
      "Vecteurs du réseau direct (cellule primitive):\n",
      "a = 3.439929088105139, b = 3.4399290881051385, c = 3.4399290881051385\n",
      "\n",
      "Vecteurs du réseau réciproque:\n",
      "a* = 2.2370516321341047, b* = 2.2370516321341056, c* = 2.2370516321341056\n",
      "\n",
      "Paramètres de la cellule conventionnelle:\n",
      "a = 4.86479437, b = 4.86479437, c = 4.86479437\n",
      "\n",
      "Paramètres du réseau réciproque liés à la cellule conventionnelle:\n",
      "a* = 1.2915623620037173, b* = 1.2915623620037173, c* = 1.2915623620037173\n",
      "\n",
      "Type de maille: cubic\n",
      "\n",
      "Système cristallin: cubic\n",
      "\n",
      "Groupe ponctuel: -43m\n"
     ]
    }
   ],
   "source": [
    "\n",
    "\n",
    "# Paramètres du réseau direct (cellule primitive)\n",
    "lattice = structure.lattice\n",
    "a, b, c = lattice.a, lattice.b, lattice.c\n",
    "print(\"Vecteurs du réseau direct (cellule primitive):\")\n",
    "print(f\"a = {a}, b = {b}, c = {c}\")\n",
    "\n",
    "# Obtenir les paramètres du réseau réciproque (cellule primitive)\n",
    "reciprocal_lattice = lattice.reciprocal_lattice\n",
    "a_r, b_r, c_r = reciprocal_lattice.a, reciprocal_lattice.b, reciprocal_lattice.c\n",
    "print(\"\\nVecteurs du réseau réciproque:\")\n",
    "print(f\"a* = {a_r}, b* = {b_r}, c* = {c_r}\")\n",
    "\n",
    "\n",
    "# Structure conventionnelle\n",
    "analyzer = SpacegroupAnalyzer(structure)\n",
    "conventional_structure = analyzer.get_conventional_standard_structure()\n",
    "\n",
    "# Cellule conventionnelle\n",
    "conventional_lattice = conventional_structure.lattice\n",
    "a, b, c = conventional_lattice.a, conventional_lattice.b, conventional_lattice.c\n",
    "print(\"\\nParamètres de la cellule conventionnelle:\")\n",
    "print(f\"a = {a}, b = {b}, c = {c}\")\n",
    "\n",
    "# Réseau réciproque liés aux vecteurs de base de la cellule conventionnelle\n",
    "reciprocal_lattice = conventional_lattice.reciprocal_lattice\n",
    "a_r, b_r, c_r = reciprocal_lattice.a, reciprocal_lattice.b, reciprocal_lattice.c\n",
    "print(\"\\nParamètres du réseau réciproque liés à la cellule conventionnelle:\")\n",
    "print(f\"a* = {a_r}, b* = {b_r}, c* = {c_r}\")\n",
    "\n",
    "#Type de maille\n",
    "maille_type = analyzer.get_lattice_type()\n",
    "\n",
    "print(\"\\nType de maille:\", maille_type)\n",
    "\n",
    "#Système cristallin\n",
    "crystal_system = analyzer.get_crystal_system()\n",
    "print(\"\\nSystème cristallin:\", crystal_system)\n",
    "\n",
    "#Groupe ponctuel:\n",
    "point_group_symbol = analyzer.get_point_group_symbol()\n",
    "print(\"\\nGroupe ponctuel:\", point_group_symbol)"
   ]
  },
  {
   "cell_type": "code",
   "execution_count": null,
   "id": "54d95ecd",
   "metadata": {},
   "outputs": [],
   "source": []
  }
 ],
 "metadata": {
  "kernelspec": {
   "display_name": "Python 3 (ipykernel)",
   "language": "python",
   "name": "python3"
  },
  "language_info": {
   "codemirror_mode": {
    "name": "ipython",
    "version": 3
   },
   "file_extension": ".py",
   "mimetype": "text/x-python",
   "name": "python",
   "nbconvert_exporter": "python",
   "pygments_lexer": "ipython3",
   "version": "3.9.13"
  }
 },
 "nbformat": 4,
 "nbformat_minor": 5
}
