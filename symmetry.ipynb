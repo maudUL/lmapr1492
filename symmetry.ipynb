{
 "cells": [
  {
   "cell_type": "code",
   "execution_count": 1,
   "id": "d239e976",
   "metadata": {},
   "outputs": [],
   "source": [
    "import numpy as np\n",
    "from mp_api.client import MPRester\n",
    "from pymatgen.core.operations import SymmOp\n",
    "from pymatgen.symmetry.analyzer import SpacegroupAnalyzer\n",
    "from pymatgen.electronic_structure.plotter import BSPlotter\n",
    "from pymatgen.phonon.plotter import PhononBSPlotter\n",
    "from jupyter_jsmol.pymatgen import quick_view\n",
    "from lmapr1492 import plot_brillouin_zone, get_plot_bs, get_plot_dos, get_plot_bs_and_dos, get_branch_wavevectors\n",
    "from plotly.subplots import make_subplots\n",
    "import plotly.graph_objects as go"
   ]
  },
  {
   "cell_type": "code",
   "execution_count": 2,
   "id": "5cc04d0d",
   "metadata": {},
   "outputs": [],
   "source": [
    "mp_key = \"5KTRCxoFyWvECvvRVCS0OeflSzkuO7df\"\n",
    "mp_id = \"mp-7575\""
   ]
  },
  {
   "cell_type": "code",
   "execution_count": 3,
   "id": "38d28088",
   "metadata": {},
   "outputs": [
    {
     "data": {
      "application/vnd.jupyter.widget-view+json": {
       "model_id": "d2f9e7ee52ee40c28aa03474461c39c3",
       "version_major": 2,
       "version_minor": 0
      },
      "text/plain": [
       "Retrieving MaterialsDoc documents:   0%|          | 0/1 [00:00<?, ?it/s]"
      ]
     },
     "metadata": {},
     "output_type": "display_data"
    },
    {
     "data": {
      "application/vnd.jupyter.widget-view+json": {
       "model_id": "c3b1b2af0f8643aaacb2d7b6adec8667",
       "version_major": 2,
       "version_minor": 0
      },
      "text/plain": [
       "Retrieving ElectronicStructureDoc documents:   0%|          | 0/1 [00:00<?, ?it/s]"
      ]
     },
     "metadata": {},
     "output_type": "display_data"
    },
    {
     "data": {
      "application/vnd.jupyter.widget-view+json": {
       "model_id": "dd66a0d5e6734b69bc750cf282ac1c9b",
       "version_major": 2,
       "version_minor": 0
      },
      "text/plain": [
       "Retrieving ElectronicStructureDoc documents:   0%|          | 0/1 [00:00<?, ?it/s]"
      ]
     },
     "metadata": {},
     "output_type": "display_data"
    },
    {
     "data": {
      "application/vnd.jupyter.widget-view+json": {
       "model_id": "a7cd1be62d6940bea948068aa285e7a1",
       "version_major": 2,
       "version_minor": 0
      },
      "text/plain": [
       "Retrieving PhononBSDOSDoc documents:   0%|          | 0/1 [00:00<?, ?it/s]"
      ]
     },
     "metadata": {},
     "output_type": "display_data"
    },
    {
     "data": {
      "application/vnd.jupyter.widget-view+json": {
       "model_id": "027e8dfd45074f77a2186ec23197217e",
       "version_major": 2,
       "version_minor": 0
      },
      "text/plain": [
       "Retrieving PhononBSDOSDoc documents:   0%|          | 0/1 [00:00<?, ?it/s]"
      ]
     },
     "metadata": {},
     "output_type": "display_data"
    }
   ],
   "source": [
    "with MPRester(mp_key) as m:\n",
    "    prim_struc = m.get_structure_by_material_id(mp_id)\n",
    "    el_bs = m.get_bandstructure_by_material_id(mp_id)\n",
    "    el_dos = m.get_dos_by_material_id(mp_id)\n",
    "    ph_bs = m.get_phonon_bandstructure_by_material_id(mp_id)\n",
    "    ph_dos = m.get_phonon_dos_by_material_id(mp_id)\n",
    "conv_struc = SpacegroupAnalyzer(prim_struc).get_conventional_standard_structure()\n",
    "symmops = SpacegroupAnalyzer(conv_struc).get_space_group_operations()"
   ]
  },
  {
   "cell_type": "code",
   "execution_count": 58,
   "id": "194371c5",
   "metadata": {},
   "outputs": [
    {
     "name": "stdout",
     "output_type": "stream",
     "text": [
      "Première opération de symétrie (symmorphique): rotation d'ordre 2 (x,y,z) -> (-x,-y,z)\n"
     ]
    },
    {
     "data": {
      "application/vnd.jupyter.widget-view+json": {
       "model_id": "85707da1b17841daadee82e14ac141b6",
       "version_major": 2,
       "version_minor": 0
      },
      "text/plain": [
       "JsmolView(layout=Layout(align_self='stretch', height='400px'))"
      ]
     },
     "metadata": {},
     "output_type": "display_data"
    },
    {
     "name": "stdout",
     "output_type": "stream",
     "text": [
      "Rot:\n",
      "[[-1.  0.  0.]\n",
      " [ 0. -1.  0.]\n",
      " [ 0.  0.  1.]]\n",
      "tau\n",
      "[0. 0. 0.]\n",
      "position initiale:  [0.75 0.25 0.25]\n",
      "position finale:  [-0.75 -0.25  0.25]\n"
     ]
    }
   ],
   "source": [
    "i_atom = 1\n",
    "i_symmop = 3\n",
    "print(\"Première opération de symétrie (symmorphique): rotation d'ordre 2 (x,y,z) -> (-x,-y,z)\")\n",
    "view = quick_view(prim_struc, \"packed\", conventional = True)\n",
    "display(view)\n",
    "view.script('draw SYMOP ' + str(i_symmop) + ' {atomno = ' + str(i_atom) + '}')\n",
    "symmop = symmops[i_symmop - 1]\n",
    "print(symmop)\n",
    "pos_init = conv_struc.sites[i_atom -1].frac_coords\n",
    "print(\"position initiale: \", pos_init)\n",
    "pos_final = symmop.operate(pos_init)\n",
    "print(\"position finale: \", pos_final)"
   ]
  },
  {
   "cell_type": "code",
   "execution_count": 59,
   "id": "49fb56b6",
   "metadata": {
    "scrolled": true
   },
   "outputs": [
    {
     "name": "stdout",
     "output_type": "stream",
     "text": [
      "Deuxième opération de symétrie (symmorphique): réflexion par rapport à un plan miroir (x,y,z) -> (y,x,z)\n"
     ]
    },
    {
     "data": {
      "application/vnd.jupyter.widget-view+json": {
       "model_id": "964a216bfb50485db50dad56bb7783f2",
       "version_major": 2,
       "version_minor": 0
      },
      "text/plain": [
       "JsmolView(layout=Layout(align_self='stretch', height='400px'))"
      ]
     },
     "metadata": {},
     "output_type": "display_data"
    },
    {
     "name": "stdout",
     "output_type": "stream",
     "text": [
      "Rot:\n",
      "[[0. 1. 0.]\n",
      " [1. 0. 0.]\n",
      " [0. 0. 1.]]\n",
      "tau\n",
      "[0. 0. 0.]\n",
      "position initiale:  [0.75 0.75 0.75]\n",
      "position finale:  [0.75 0.75 0.75]\n",
      "Les positions initiales et finales sont confondues car elles se trouvent sur le plan miroir\n"
     ]
    }
   ],
   "source": [
    "i_atom = 2\n",
    "i_symmop = 6\n",
    "print(\"Deuxième opération de symétrie (symmorphique): réflexion par rapport à un plan miroir (x,y,z) -> (y,x,z)\")\n",
    "view = quick_view(prim_struc, \"packed\", conventional = True)\n",
    "display(view)\n",
    "view.script('draw SYMOP ' + str(i_symmop) + ' {atomno = ' + str(i_atom) + '}')\n",
    "symmop = symmops[i_symmop - 1]\n",
    "print(symmop)\n",
    "pos_init = conv_struc.sites[i_atom -1].frac_coords\n",
    "print(\"position initiale: \", pos_init)\n",
    "pos_final = symmop.operate(pos_init)\n",
    "print(\"position finale: \", pos_final)\n",
    "print(\"Les positions initiales et finales sont confondues car elles se trouvent sur le plan miroir\")"
   ]
  },
  {
   "cell_type": "code",
   "execution_count": 60,
   "id": "52f3ec04",
   "metadata": {
    "scrolled": true
   },
   "outputs": [
    {
     "name": "stdout",
     "output_type": "stream",
     "text": [
      "Troisième opération de symétrie (symmorphique): réflexion par rapport à un plan miroir (x,y,z) -> (z,y,x)\n"
     ]
    },
    {
     "data": {
      "application/vnd.jupyter.widget-view+json": {
       "model_id": "73ece2677132459fb6940f5570efc633",
       "version_major": 2,
       "version_minor": 0
      },
      "text/plain": [
       "JsmolView(layout=Layout(align_self='stretch', height='400px'))"
      ]
     },
     "metadata": {},
     "output_type": "display_data"
    },
    {
     "name": "stdout",
     "output_type": "stream",
     "text": [
      "Rot:\n",
      "[[0. 0. 1.]\n",
      " [0. 1. 0.]\n",
      " [1. 0. 0.]]\n",
      "tau\n",
      "[0. 0. 0.]\n",
      "position initiale:  [0.25 0.25 0.75]\n",
      "position finale:  [0.75 0.25 0.25]\n"
     ]
    }
   ],
   "source": [
    "i_atom = 3\n",
    "i_symmop = 14\n",
    "print(\"Troisième opération de symétrie (symmorphique): réflexion par rapport à un plan miroir (x,y,z) -> (z,y,x)\")\n",
    "view = quick_view(prim_struc, \"packed\", conventional = True)\n",
    "display(view)\n",
    "view.script('draw SYMOP ' + str(i_symmop) + ' {atomno = ' + str(i_atom) + '}')\n",
    "symmop = symmops[i_symmop - 1]\n",
    "print(symmop)\n",
    "pos_init = conv_struc.sites[i_atom -1].frac_coords\n",
    "print(\"position initiale: \", pos_init)\n",
    "pos_final = symmop.operate(pos_init)\n",
    "print(\"position finale: \", pos_final)\n"
   ]
  }
 ],
 "metadata": {
  "kernelspec": {
   "display_name": "Python 3 (ipykernel)",
   "language": "python",
   "name": "python3"
  },
  "language_info": {
   "codemirror_mode": {
    "name": "ipython",
    "version": 3
   },
   "file_extension": ".py",
   "mimetype": "text/x-python",
   "name": "python",
   "nbconvert_exporter": "python",
   "pygments_lexer": "ipython3",
   "version": "3.9.13"
  }
 },
 "nbformat": 4,
 "nbformat_minor": 5
}
